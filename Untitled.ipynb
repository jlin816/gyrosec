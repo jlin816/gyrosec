{
 "cells": [
  {
   "cell_type": "code",
   "execution_count": 1,
   "metadata": {},
   "outputs": [],
   "source": [
    "import csv\n",
    "import math\n",
    "import numpy as np\n",
    "import matplotlib.pyplot as plt"
   ]
  },
  {
   "cell_type": "code",
   "execution_count": 2,
   "metadata": {},
   "outputs": [
    {
     "name": "stdout",
     "output_type": "stream",
     "text": [
      "['-2.0', '-2.0', 'gyroscope', '1557848283258', '0.007236873946181322', '0.02643586856067156', '-0.017470070434810796']\n",
      "['-2.0', '-2.0', 'accelerometer', '1557848283259', '0.09832763671875', '-0.45709228515625', '-0.881988525390625']\n",
      "Total time (s):  902.189\n"
     ]
    }
   ],
   "source": [
    "dataset = \"jessyiPhone\"\n",
    "with open(\"data/\" + dataset + \".csv\") as f:\n",
    "    # touch_x, touch_y, sensor, t, x, y, z = row\n",
    "    csvreader = csv.reader(f)\n",
    "    print(next(csvreader))\n",
    "    csvf = list(csvreader)\n",
    "print(csvf[0])\n",
    "start_time = int(csvf[0][3])\n",
    "print(\"Total time (s): \", (int(csvf[-1][3]) - start_time)/1000)"
   ]
  },
  {
   "cell_type": "code",
   "execution_count": 3,
   "metadata": {},
   "outputs": [
    {
     "ename": "NameError",
     "evalue": "name 'window_size_ms' is not defined",
     "output_type": "error",
     "traceback": [
      "\u001b[0;31m---------------------------------------------------------------------------\u001b[0m",
      "\u001b[0;31mNameError\u001b[0m                                 Traceback (most recent call last)",
      "\u001b[0;32m<ipython-input-3-108f1a445b46>\u001b[0m in \u001b[0;36m<module>\u001b[0;34m()\u001b[0m\n\u001b[1;32m      9\u001b[0m \u001b[0;34m\u001b[0m\u001b[0m\n\u001b[1;32m     10\u001b[0m \u001b[0mend_time\u001b[0m \u001b[0;34m=\u001b[0m \u001b[0mmax\u001b[0m\u001b[0;34m(\u001b[0m\u001b[0macc_data\u001b[0m\u001b[0;34m[\u001b[0m\u001b[0;34m-\u001b[0m\u001b[0;36m1\u001b[0m\u001b[0;34m]\u001b[0m\u001b[0;34m[\u001b[0m\u001b[0;36m0\u001b[0m\u001b[0;34m]\u001b[0m\u001b[0;34m,\u001b[0m \u001b[0mgyro_data\u001b[0m\u001b[0;34m[\u001b[0m\u001b[0;34m-\u001b[0m\u001b[0;36m1\u001b[0m\u001b[0;34m]\u001b[0m\u001b[0;34m[\u001b[0m\u001b[0;36m0\u001b[0m\u001b[0;34m]\u001b[0m\u001b[0;34m)\u001b[0m\u001b[0;34m\u001b[0m\u001b[0m\n\u001b[0;32m---> 11\u001b[0;31m \u001b[0mnum_windows\u001b[0m \u001b[0;34m=\u001b[0m \u001b[0mmath\u001b[0m\u001b[0;34m.\u001b[0m\u001b[0mceil\u001b[0m\u001b[0;34m(\u001b[0m\u001b[0;34m(\u001b[0m\u001b[0mend_time\u001b[0m \u001b[0;34m/\u001b[0m \u001b[0mwindow_size_ms\u001b[0m\u001b[0;34m)\u001b[0m\u001b[0;34m)\u001b[0m\u001b[0;34m\u001b[0m\u001b[0m\n\u001b[0m\u001b[1;32m     12\u001b[0m \u001b[0mnum_samples\u001b[0m \u001b[0;34m=\u001b[0m \u001b[0mnum_windows\u001b[0m \u001b[0;34m*\u001b[0m \u001b[0msamples_per_window\u001b[0m\u001b[0;34m\u001b[0m\u001b[0m\n\u001b[1;32m     13\u001b[0m \u001b[0mprint\u001b[0m\u001b[0;34m(\u001b[0m\u001b[0;34m\"Total time: \"\u001b[0m\u001b[0;34m,\u001b[0m \u001b[0mend_time\u001b[0m\u001b[0;34m)\u001b[0m\u001b[0;34m\u001b[0m\u001b[0m\n",
      "\u001b[0;31mNameError\u001b[0m: name 'window_size_ms' is not defined"
     ]
    }
   ],
   "source": [
    "# Separate acc and gyro data\n",
    "acc_data = np.array([[\n",
    "    int(x[3]) - start_time, float(x[4]), float(x[5]), float(x[6])\n",
    "] for x in csvf if x[2] == \"accelerometer\"])\n",
    "\n",
    "gyro_data = np.array([[\n",
    "    int(x[3]) - start_time, float(x[4]), float(x[5]), float(x[6])\n",
    "] for x in csvf if x[2] == \"gyroscope\"])\n",
    "\n",
    "end_time = max(acc_data[-1][0], gyro_data[-1][0])\n",
    "print(\"Total time: \", end_time)\n",
    "print(\"Num windows:\", num_windows)\n",
    "print(\"Num samples: \", num_samples)"
   ]
  },
  {
   "cell_type": "code",
   "execution_count": null,
   "metadata": {},
   "outputs": [],
   "source": []
  }
 ],
 "metadata": {
  "kernelspec": {
   "display_name": "Python 3 cocosci",
   "language": "python",
   "name": "cocosci"
  },
  "language_info": {
   "codemirror_mode": {
    "name": "ipython",
    "version": 3
   },
   "file_extension": ".py",
   "mimetype": "text/x-python",
   "name": "python",
   "nbconvert_exporter": "python",
   "pygments_lexer": "ipython3",
   "version": "3.5.0"
  }
 },
 "nbformat": 4,
 "nbformat_minor": 2
}
